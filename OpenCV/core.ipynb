{
 "cells": [
  {
   "cell_type": "markdown",
   "id": "45dc6678",
   "metadata": {},
   "source": [
    "Trong Python API của OpenCV, cv2.Point không tồn tại.\n",
    "Cú pháp cv::Point chỉ dùng trong C++ OpenCV API, còn Python thì chỉ dùng tuple/list hoặc numpy array để biểu diễn điểm."
   ]
  },
  {
   "cell_type": "code",
   "execution_count": 3,
   "id": "247edd12",
   "metadata": {},
   "outputs": [
    {
     "name": "stdout",
     "output_type": "stream",
     "text": [
      "pt2i (10, 20) pt2f (10.5, 20.7) pt3f (1.0, 2.0, 3.0) rec (5, 5, 5, 5)\n"
     ]
    }
   ],
   "source": [
    "import cv2\n",
    "import numpy as np\n",
    "\n",
    "#Điểm 2D, 3D, và Rectangle\n",
    "\n",
    "pt2i = (10, 20)\n",
    "pt2f = (10.5, 20.7)\n",
    "pt3f = (1.0, 2.0, 3.0)\n",
    "rec = (5, 5, 5, 5)\n",
    "print(\"pt2i\", pt2i, \"pt2f\", pt2f,\"pt3f\", pt3f,\"rec\", rec)"
   ]
  },
  {
   "cell_type": "markdown",
   "id": "c3eeddf1",
   "metadata": {},
   "source": [
    "Trong C++ OpenCV có class cv::Size và cv::Scalar.\n",
    "\n",
    "Nhưng trong Python OpenCV (cv2) không có cv2.Size hay cv2.Scalar.\n",
    "\n",
    "Python wrapper đơn giản hơn: dùng tuple/list hoặc NumPy array thay thế."
   ]
  },
  {
   "cell_type": "code",
   "execution_count": 5,
   "id": "22b3edf6",
   "metadata": {},
   "outputs": [
    {
     "name": "stdout",
     "output_type": "stream",
     "text": [
      "Size: (640, 480) Color: (0, 128, 255)\n"
     ]
    }
   ],
   "source": [
    "#Size và scalar\n",
    "\n",
    "sz = (640, 480)\n",
    "color = (0, 128, 255) #BGR\n",
    "print(\"Size:\", sz, \"Color:\", color)"
   ]
  }
 ],
 "metadata": {
  "kernelspec": {
   "display_name": "base",
   "language": "python",
   "name": "python3"
  },
  "language_info": {
   "codemirror_mode": {
    "name": "ipython",
    "version": 3
   },
   "file_extension": ".py",
   "mimetype": "text/x-python",
   "name": "python",
   "nbconvert_exporter": "python",
   "pygments_lexer": "ipython3",
   "version": "3.13.5"
  }
 },
 "nbformat": 4,
 "nbformat_minor": 5
}
