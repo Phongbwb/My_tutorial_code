{
 "cells": [
  {
   "cell_type": "markdown",
   "id": "45dc6678",
   "metadata": {},
   "source": [
    "Trong Python API của OpenCV, cv2.Point không tồn tại.\n",
    "Cú pháp cv::Point chỉ dùng trong C++ OpenCV API, còn Python thì chỉ dùng tuple/list hoặc numpy array để biểu diễn điểm."
   ]
  },
  {
   "cell_type": "code",
   "execution_count": 3,
   "id": "247edd12",
   "metadata": {},
   "outputs": [
    {
     "name": "stdout",
     "output_type": "stream",
     "text": [
      "pt2i (10, 20) pt2f (10.5, 20.7) pt3f (1.0, 2.0, 3.0) rec (5, 5, 5, 5)\n"
     ]
    }
   ],
   "source": [
    "import cv2\n",
    "import numpy as np\n",
    "\n",
    "#Điểm 2D, 3D, và Rectangle\n",
    "\n",
    "pt2i = (10, 20)\n",
    "pt2f = (10.5, 20.7)\n",
    "pt3f = (1.0, 2.0, 3.0)\n",
    "rec = (5, 5, 5, 5)\n",
    "print(\"pt2i\", pt2i, \"pt2f\", pt2f,\"pt3f\", pt3f,\"rec\", rec)"
   ]
  },
  {
   "cell_type": "markdown",
   "id": "c3eeddf1",
   "metadata": {},
   "source": [
    "Trong C++ OpenCV có class cv::Size và cv::Scalar.\n",
    "\n",
    "Nhưng trong Python OpenCV (cv2) không có cv2.Size hay cv2.Scalar.\n",
    "\n",
    "Python wrapper đơn giản hơn: dùng tuple/list hoặc NumPy array thay thế."
   ]
  },
  {
   "cell_type": "code",
   "execution_count": 5,
   "id": "22b3edf6",
   "metadata": {},
   "outputs": [
    {
     "name": "stdout",
     "output_type": "stream",
     "text": [
      "Size: (640, 480) Color: (0, 128, 255)\n"
     ]
    }
   ],
   "source": [
    "#Size và scalar\n",
    "\n",
    "sz = (640, 480)\n",
    "color = (0, 128, 255) #BGR\n",
    "print(\"Size:\", sz, \"Color:\", color)"
   ]
  },
  {
   "cell_type": "markdown",
   "id": "1b0740df",
   "metadata": {},
   "source": [
    "Trong Python, cv2 không có class Matx33f – thay vào đó ta dùng NumPy array để làm ma trận."
   ]
  },
  {
   "cell_type": "code",
   "execution_count": 4,
   "id": "ca377a2b",
   "metadata": {},
   "outputs": [
    {
     "name": "stdout",
     "output_type": "stream",
     "text": [
      "Mat:\n",
      " [[ 0.  1.  2.  3.]\n",
      " [ 4.  5.  6.  7.]\n",
      " [ 8.  9. 10. 11.]]\n",
      "Matx33f:\n",
      " [[1. 2. 3.]\n",
      " [4. 5. 6.]\n",
      " [7. 8. 9.]]\n",
      "Determinant: 0.0 Trace: (15.0, 0.0, 0.0, 0.0)\n"
     ]
    }
   ],
   "source": [
    "#Mat va Matx\n",
    "\n",
    "#Tao Mat tu Numpy\n",
    "\n",
    "import numpy as np\n",
    "import cv2\n",
    "mat = np.arange(12, dtype=np.float32).reshape(3, 4)\n",
    "print(\"Mat:\\n\", mat)\n",
    "\n",
    "#Ma tran co dinh Matx33f va cac phep toan\n",
    "m3 = np.array([[1, 2, 3],\n",
    "               [4, 5, 6],\n",
    "               [7, 8, 9]], dtype=np.float32)\n",
    "det = cv2.determinant(m3)\n",
    "tr = cv2.trace(m3)\n",
    "print(\"Matx33f:\\n\", m3)\n",
    "print(\"Determinant:\", det, \"Trace:\", tr)"
   ]
  },
  {
   "cell_type": "markdown",
   "id": "c315392b",
   "metadata": {},
   "source": [
    "cv2.Vec3b và cv2.Complexf là kiểu dữ liệu C++ API trong OpenCV, Python không có các class này.\n",
    "Trong Python, ta sẽ dùng NumPy để biểu diễn vector hoặc số phức."
   ]
  },
  {
   "cell_type": "code",
   "execution_count": 6,
   "id": "330e1c7a",
   "metadata": {},
   "outputs": [
    {
     "name": "stdout",
     "output_type": "stream",
     "text": [
      "Vec3b: [1 2 3] dtype: uint8\n",
      "Complex: (2+3j) Real: 2.0 Imag: 3.0\n"
     ]
    }
   ],
   "source": [
    "# Vec và Complex\n",
    "v3b = np.array([1, 2, 3], dtype=np.uint8)\n",
    "print(\"Vec3b:\", v3b, \"dtype:\", v3b.dtype)\n",
    "\n",
    "cplx = np.complex64(complex(2, 3))\n",
    "print(\"Complex:\", cplx, \"Real:\", cplx.real, \"Imag:\", cplx.imag)"
   ]
  },
  {
   "cell_type": "markdown",
   "id": "00947a58",
   "metadata": {},
   "source": [
    "Không có cv2.Range.\n",
    "\n",
    "Dùng NumPy slicing: mat[1:3, 1:3]."
   ]
  },
  {
   "cell_type": "code",
   "execution_count": 4,
   "id": "a6c593be",
   "metadata": {},
   "outputs": [
    {
     "name": "stdout",
     "output_type": "stream",
     "text": [
      "Sub-matrix [1:3, 1:3]:\n",
      " [[ 6.  7.]\n",
      " [11. 12.]]\n"
     ]
    }
   ],
   "source": [
    "#Range va slicing\n",
    "mat = np.arange(25, dtype=np.float32).reshape(5, 5)\n",
    "sub = mat[1:3, 1:3]\n",
    "print(\"Sub-matrix [1:3, 1:3]:\\n\", sub)"
   ]
  },
  {
   "cell_type": "code",
   "execution_count": 9,
   "id": "9765e34f",
   "metadata": {},
   "outputs": [
    {
     "name": "stdout",
     "output_type": "stream",
     "text": [
      "UMat Gaussian Blur:\n",
      " [[ 4.238145   4.6407647  5.531788   6.4228106  6.82543  ]\n",
      " [ 6.2512445  6.6538644  7.544887   8.43591    8.83853  ]\n",
      " [10.706359  11.108978  12.000001  12.891024  13.293643 ]\n",
      " [15.161471  15.564092  16.455114  17.346136  17.748756 ]\n",
      " [17.17457   17.57719   18.468214  19.359236  19.761854 ]]\n"
     ]
    }
   ],
   "source": [
    "#Umat (OpenCL)\n",
    "\n",
    "umat = cv2.UMat(mat)\n",
    "blur = cv2.GaussianBlur(umat, (5, 5), 1.0).get()\n",
    "print(\"UMat Gaussian Blur:\\n\", blur)"
   ]
  },
  {
   "cell_type": "code",
   "execution_count": 11,
   "id": "0bd88597",
   "metadata": {},
   "outputs": [
    {
     "name": "stdout",
     "output_type": "stream",
     "text": [
      "Gray to BGR:\n",
      " (5, 5, 3)\n"
     ]
    }
   ],
   "source": [
    "#InputArray/OutputArray placeholder\n",
    "\n",
    "gray = cv2.cvtColor(mat, cv2.COLOR_GRAY2BGR)\n",
    "print(\"Gray to BGR:\\n\", gray.shape)"
   ]
  },
  {
   "cell_type": "markdown",
   "id": "9d3a652c",
   "metadata": {},
   "source": [
    "cv2.MatExpr chỉ tồn tại trong OpenCV C++ API, Python không có class này.\n",
    "\n",
    "Trong Python, để thực hiện các biểu thức ma trận (matrix expressions) kiểu mat * 2 + 5, bạn chỉ cần dùng NumPy trực tiếp"
   ]
  },
  {
   "cell_type": "code",
   "execution_count": 6,
   "id": "717f5fb5",
   "metadata": {},
   "outputs": [
    {
     "name": "stdout",
     "output_type": "stream",
     "text": [
      "MatExpr result:\n",
      " [[ 5.  7.  9. 11. 13.]\n",
      " [15. 17. 19. 21. 23.]\n",
      " [25. 27. 29. 31. 33.]\n",
      " [35. 37. 39. 41. 43.]\n",
      " [45. 47. 49. 51. 53.]]\n"
     ]
    }
   ],
   "source": [
    "import cv2\n",
    "import numpy as np\n",
    "#MatEXpr\n",
    "expr =  mat* 2 + 5\n",
    "print(\"MatExpr result:\\n\", expr)"
   ]
  },
  {
   "cell_type": "markdown",
   "id": "b5388cc0",
   "metadata": {},
   "source": [
    "mat.flat\n",
    "\n",
    "Trả về một numpy.flatiter: iterator giúp duyệt từng phần tử trong mảng 2D/đa chiều như 1D.\n",
    "\n",
    "Không tạo bản copy, tiết kiệm bộ nhớ.\n",
    "\n",
    "sum(it)\n",
    "\n",
    "Duyệt lần lượt từng phần tử qua iterator it và cộng dồn.\n",
    "\n",
    "Kết quả bằng mat.sum(), nhưng dùng cú pháp iterator."
   ]
  },
  {
   "cell_type": "code",
   "execution_count": 7,
   "id": "60a259c5",
   "metadata": {},
   "outputs": [
    {
     "name": "stdout",
     "output_type": "stream",
     "text": [
      "Sum via iterator: 300.0\n"
     ]
    }
   ],
   "source": [
    "#iterators\n",
    "it = mat.flat\n",
    "print(\"Sum via iterator:\", sum(it))"
   ]
  },
  {
   "cell_type": "markdown",
   "id": "cc0348f3",
   "metadata": {},
   "source": [
    "cv2.TermCriteria không tạo ra một object có thuộc tính .maxCount, .epsilon như trong C++. Thay vào đó, nó trả về một tuple (type, maxCount, epsilon)."
   ]
  },
  {
   "cell_type": "code",
   "execution_count": 9,
   "id": "81c01b1c",
   "metadata": {},
   "outputs": [
    {
     "name": "stdout",
     "output_type": "stream",
     "text": [
      "TermCriteria: (3, 10, 1.0)\n",
      "Centers:\n",
      " [[ 1.  2.]\n",
      " [10.  2.]]\n"
     ]
    }
   ],
   "source": [
    "#TermCriteria\n",
    "criteria = (cv2.TERM_CRITERIA_EPS + cv2.TERM_CRITERIA_MAX_ITER, 10, 1.0)\n",
    "print(\"TermCriteria:\", criteria)\n",
    "\n",
    "# Ví dụ kmeans\n",
    "data = np.float32([[1, 2], [1, 4], [1, 0],\n",
    "                   [10, 2], [10, 4], [10, 0]])\n",
    "\n",
    "compactness, labels, centers = cv2.kmeans(\n",
    "    data, 2, None, criteria, 10, cv2.KMEANS_RANDOM_CENTERS\n",
    ")\n",
    "\n",
    "print(\"Centers:\\n\", centers)"
   ]
  },
  {
   "cell_type": "code",
   "execution_count": null,
   "id": "1a7ac9a9",
   "metadata": {},
   "outputs": [
    {
     "name": "stdout",
     "output_type": "stream",
     "text": [
      "OpenCV operations on array\n",
      "============================================================\n",
      "a= \n",
      "[[1 2 3]\n",
      " [4 5 6]]\n",
      "b= \n",
      " [[10 20 30]\n",
      " [40 50 60]]\n",
      "\n"
     ]
    }
   ],
   "source": [
    "import numpy as np\n",
    "import pandas as pd\n",
    "\n",
    "print(\"OpenCV operations on array\")\n",
    "print(\"=\"*60)\n",
    "\n",
    "#Tao du lieu mau\n",
    "a = np.array([[1, 2, 3], [4, 5, 6]], dtype=np.uint8)\n",
    "b = np.array([[10, 20, 30], [40, 50, 60]], dtype=np.uint8)\n",
    "\n",
    "print(f\"a= \\n{a}\")\n",
    "print(f\"b= \\n {b}\")\n",
    "print()\n",
    "\n",
    "#Tao dictionary chua tat ca cac vi du"
   ]
  },
  {
   "cell_type": "markdown",
   "id": "31d287c3",
   "metadata": {},
   "source": [
    "Hàm np.clip trong NumPy dùng để giới hạn (clamp) giá trị của một mảng về một khoảng [min, max] mà bạn chỉ định."
   ]
  },
  {
   "cell_type": "code",
   "execution_count": 16,
   "id": "488a4700",
   "metadata": {},
   "outputs": [
    {
     "name": "stdout",
     "output_type": "stream",
     "text": [
      "[[11 22 33]\n",
      " [44 55 66]]\n",
      "[[11 22 33]\n",
      " [44 55 66]]\n"
     ]
    }
   ],
   "source": [
    "#Phep toan so hoc\n",
    "\n",
    "#cv2.add()\n",
    "\n",
    "add_result = cv2.add(a, b)\n",
    "print(add_result)\n",
    "add_res = np.clip(a.astype(np.int16) + b.astype(np.int16), 0, 255).astype(np.uint8)\n",
    "print(add_res)"
   ]
  },
  {
   "cell_type": "code",
   "execution_count": 18,
   "id": "1701049d",
   "metadata": {},
   "outputs": [
    {
     "name": "stdout",
     "output_type": "stream",
     "text": [
      "[[ 9 18 27]\n",
      " [36 45 54]]\n",
      "[[ 9 18 27]\n",
      " [36 45 54]]\n"
     ]
    }
   ],
   "source": [
    "#cv2.subtract()\n",
    "subtract_result = cv2.subtract(b, a)\n",
    "print(subtract_result)\n",
    "subtract_res = np.clip(b.astype(np.int16) - a.astype(np.int16), 0, 255).astype(np.uint8)\n",
    "print(subtract_res)"
   ]
  },
  {
   "cell_type": "code",
   "execution_count": 23,
   "id": "1492f2f3",
   "metadata": {},
   "outputs": [
    {
     "name": "stdout",
     "output_type": "stream",
     "text": [
      "[[0 0 0]\n",
      " [0 0 1]]\n",
      "[[0 0 0]\n",
      " [0 0 1]]\n"
     ]
    }
   ],
   "source": [
    "#cv2.multiply()\n",
    "multiply_result = np.array(cv2.multiply(a, b)/255.0).astype(np.uint8)\n",
    "print(multiply_result)\n",
    "multipply_res = np.clip(a.astype(np.int16) * b.astype(np.int16)/255.0, 0, 255).astype(np.uint8)\n",
    "print(multipply_res)"
   ]
  },
  {
   "cell_type": "code",
   "execution_count": 26,
   "id": "4bae2ea3",
   "metadata": {},
   "outputs": [
    {
     "name": "stdout",
     "output_type": "stream",
     "text": [
      "[[9.99999  9.999995 9.999997]\n",
      " [9.999998 9.999998 9.999998]]\n",
      "[[9.99999  9.999995 9.999997]\n",
      " [9.999998 9.999998 9.999998]]\n"
     ]
    }
   ],
   "source": [
    "#cv2.divide()\n",
    "divide_result = cv2.divide(b.astype(np.float32), a.astype(np.float32)+1e-6)\n",
    "print(divide_result)\n",
    "divide_res = np.divide(b.astype(np.float32) , a.astype(np.float32)+1e-6)\n",
    "print(divide_res)"
   ]
  }
 ],
 "metadata": {
  "kernelspec": {
   "display_name": "pill_detec",
   "language": "python",
   "name": "python3"
  },
  "language_info": {
   "codemirror_mode": {
    "name": "ipython",
    "version": 3
   },
   "file_extension": ".py",
   "mimetype": "text/x-python",
   "name": "python",
   "nbconvert_exporter": "python",
   "pygments_lexer": "ipython3",
   "version": "3.10.18"
  }
 },
 "nbformat": 4,
 "nbformat_minor": 5
}
