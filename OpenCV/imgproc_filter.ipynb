{
 "cells": [
  {
   "cell_type": "code",
   "execution_count": null,
   "id": "46db5dc8",
   "metadata": {},
   "outputs": [
    {
     "data": {
      "text/plain": [
       "True"
      ]
     },
     "execution_count": 1,
     "metadata": {},
     "output_type": "execute_result"
    }
   ],
   "source": [
    "#Cac ham loc anh\n",
    "\n",
    "#Bilateral Filter\n",
    "\n",
    "import cv2\n",
    "\n",
    "img = cv2.imread('input.png')\n",
    "dst = cv2.bilateralFilter(img, d=9, sigmaColor = 75, sigmaSpace = 75)\n",
    "cv2.imwrite('output.png', dst)\n",
    "\n",
    "#Bilateral filter giảm nhiễu mà vẫn giữ biên rõ nét"
   ]
  },
  {
   "cell_type": "code",
   "execution_count": 2,
   "id": "3fb1144f",
   "metadata": {},
   "outputs": [
    {
     "data": {
      "text/plain": [
       "True"
      ]
     },
     "execution_count": 2,
     "metadata": {},
     "output_type": "execute_result"
    }
   ],
   "source": [
    "#Blur (Box Filter)\n",
    "import cv2\n",
    "img = cv2.imread('input.png')\n",
    "dst = cv2.blur(img, ksize=(5,5))\n",
    "cv2.imwrite('blur_output.png', dst)"
   ]
  }
 ],
 "metadata": {
  "kernelspec": {
   "display_name": "pill_detec",
   "language": "python",
   "name": "python3"
  },
  "language_info": {
   "codemirror_mode": {
    "name": "ipython",
    "version": 3
   },
   "file_extension": ".py",
   "mimetype": "text/x-python",
   "name": "python",
   "nbconvert_exporter": "python",
   "pygments_lexer": "ipython3",
   "version": "3.10.18"
  }
 },
 "nbformat": 4,
 "nbformat_minor": 5
}
