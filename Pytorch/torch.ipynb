{
 "cells": [
  {
   "cell_type": "code",
   "execution_count": 2,
   "id": "72d9fdd1",
   "metadata": {},
   "outputs": [
    {
     "data": {
      "text/plain": [
       "True"
      ]
     },
     "execution_count": 2,
     "metadata": {},
     "output_type": "execute_result"
    }
   ],
   "source": [
    "import torch\n",
    "x = torch.tensor([1,2,3])\n",
    "torch.is_tensor(x)\n"
   ]
  },
  {
   "cell_type": "markdown",
   "id": "9acbc9a1",
   "metadata": {},
   "source": [
    "Storage trong PyTorch là vùng bộ nhớ thô dùng để chứa dữ liệu của tensor (một tensor có thể chia sẻ cùng một storage với tensor khác).\n",
    "data_ptr() trong PyTorch là một method của Tensor hoặc Storage dùng để trả về địa chỉ con trỏ (memory address) đến vùng nhớ chứa dữ liệu thực sự của tensor trong RAM (hoặc GPU memory nếu tensor nằm trên CUDA)."
   ]
  },
  {
   "cell_type": "code",
   "execution_count": null,
   "id": "3b995e13",
   "metadata": {},
   "outputs": [
    {
     "name": "stdout",
     "output_type": "stream",
     "text": [
      "False\n",
      "True\n",
      "True\n"
     ]
    }
   ],
   "source": [
    "import torch\n",
    "\n",
    "x = torch.tensor([1,2,3])\n",
    "\n",
    "s=x.storage()\n",
    "\n",
    "print(torch.is_storage(x))\n",
    "print(torch.is_storage(s))\n",
    "\n",
    "y=x[:2] #y là view của x\n",
    "print(y.storage().data_ptr()==x.storage().data_ptr()) #cùng 1 storage"
   ]
  },
  {
   "cell_type": "code",
   "execution_count": 11,
   "id": "f3972dd9",
   "metadata": {},
   "outputs": [
    {
     "name": "stdout",
     "output_type": "stream",
     "text": [
      "False\n",
      "True\n",
      "tensor([1.+3.j, 2.+4.j])\n",
      "True\n"
     ]
    }
   ],
   "source": [
    "import torch\n",
    "\n",
    "a = torch.tensor([1,2,3], dtype=torch.float32)\n",
    "b=torch.tensor([1+2j,3+4j], dtype=torch.complex64)\n",
    "\n",
    "print(torch.is_complex(a))\n",
    "print(torch.is_complex(b))\n",
    "\n",
    "#tao tensor so phuc tu phan thuc va phan ao\n",
    "real = torch.tensor([1.0,2.0])\n",
    "imag = torch.tensor([3.0,4.0])\n",
    "\n",
    "z = torch.complex(real, imag)\n",
    "print(z)\n",
    "print(torch.is_complex(z))"
   ]
  },
  {
   "cell_type": "markdown",
   "id": "d147485d",
   "metadata": {},
   "source": [
    "torch.is_complex kiểm tra dtype của tensor.\n",
    "\n",
    "Không áp dụng cho int, float, bool vì chúng không có phần ảo."
   ]
  },
  {
   "cell_type": "code",
   "execution_count": 12,
   "id": "4cf0778b",
   "metadata": {},
   "outputs": [
    {
     "name": "stdout",
     "output_type": "stream",
     "text": [
      "False\n",
      "True\n",
      "False\n",
      "tensor([1.-2.j, 3.-4.j])\n"
     ]
    }
   ],
   "source": [
    "import torch\n",
    "\n",
    "z = torch.tensor([1+2j, 3+4j], dtype=torch.complex64)\n",
    "print(torch.is_conj(z))\n",
    "z_conj=torch.conj(z)\n",
    "print(torch.is_conj(z_conj))\n",
    "\n",
    "z_realized = torch.resolve_conj(z_conj)\n",
    "print(torch.is_conj(z_realized))\n",
    "print(z_realized)\n",
    "\n"
   ]
  },
  {
   "cell_type": "markdown",
   "id": "f52b8a54",
   "metadata": {},
   "source": [
    "torch.is_conj(x) kiểm tra xem tensor có conjugate bit không, chứ không phải kiểm tra giá trị có đúng là số phức liên hợp hay không.\n",
    "\n",
    "Nếu bạn muốn tính giá trị liên hợp thật sự, dùng torch.resolve_conj()."
   ]
  },
  {
   "cell_type": "code",
   "execution_count": 13,
   "id": "3fe888ee",
   "metadata": {},
   "outputs": [
    {
     "name": "stdout",
     "output_type": "stream",
     "text": [
      "False\n",
      "True\n",
      "False\n",
      "False\n"
     ]
    }
   ],
   "source": [
    "import torch\n",
    "\n",
    "a = torch.tensor([1,2,3], dtype = torch.int)\n",
    "b=torch.tensor([1.0,2.0,3.0], dtype = torch.float32)\n",
    "c=torch.tensor([1+2j,3+4j], dtype = torch.complex64)\n",
    "d=torch.tensor([True,False])\n",
    "\n",
    "print(torch.is_floating_point(a))\n",
    "print(torch.is_floating_point(b))\n",
    "print(torch.is_floating_point(c))\n",
    "print(torch.is_floating_point(d))\n"
   ]
  },
  {
   "cell_type": "markdown",
   "id": "bdffcebf",
   "metadata": {},
   "source": [
    "input phải là tensor vô hướng (0-dim, tức là chỉ chứa một giá trị).\n",
    "\n",
    "Nếu giá trị ≠ 0 → trả về True.\n",
    "\n",
    "Nếu giá trị = 0 → trả về False.\n",
    "\n",
    "Nếu truyền tensor có nhiều phần tử → báo lỗi."
   ]
  },
  {
   "cell_type": "code",
   "execution_count": 14,
   "id": "18fc5860",
   "metadata": {},
   "outputs": [
    {
     "name": "stdout",
     "output_type": "stream",
     "text": [
      "True\n",
      "True\n",
      "Loi: Boolean value of Tensor with more than one value is ambiguous\n"
     ]
    }
   ],
   "source": [
    "import torch\n",
    "\n",
    "a = torch.tensor(3)\n",
    "b= torch.tensor(1)\n",
    "c = torch.tensor([1,2])\n",
    "\n",
    "print(torch.is_nonzero(a))\n",
    "print(torch.is_nonzero(b))\n",
    "\n",
    "try:\n",
    "    print(torch.is_nonzero(c))\n",
    "except Exception as e:\n",
    "    print(\"Loi:\",e)\n",
    "    "
   ]
  },
  {
   "cell_type": "markdown",
   "id": "35caf760",
   "metadata": {},
   "source": [
    "torch.set_default_dtype dùng để đặt kiểu dữ liệu mặc định (default floating-point dtype) cho các tensor float mà bạn tạo mà không chỉ định dtype"
   ]
  },
  {
   "cell_type": "code",
   "execution_count": 15,
   "id": "58bcf72c",
   "metadata": {},
   "outputs": [
    {
     "name": "stdout",
     "output_type": "stream",
     "text": [
      "torch.float32\n",
      "torch.float64\n",
      "torch.int64\n"
     ]
    }
   ],
   "source": [
    "import torch\n",
    "\n",
    "a = torch.tensor([1.0 , 2.0, 3.0])\n",
    "print(a.dtype)\n",
    "\n",
    "torch.set_default_dtype(torch.float64)\n",
    "\n",
    "b=torch.tensor([1.0 , 2.0, 3.0])\n",
    "print(b.dtype)\n",
    "\n",
    "c=torch.tensor([1,2,3])\n",
    "print(c.dtype)"
   ]
  },
  {
   "cell_type": "markdown",
   "id": "9b0b3c62",
   "metadata": {},
   "source": [
    "d là một torch.dtype thuộc loại floating-point (torch.float32, torch.float64, torch.float16, torch.bfloat16).\n",
    "\n",
    "Ảnh hưởng đến tensor float mới được tạo sau khi gọi hàm.\n",
    "\n",
    "Không ảnh hưởng đến tensor integer hay bool."
   ]
  },
  {
   "cell_type": "code",
   "execution_count": 17,
   "id": "ec98033b",
   "metadata": {},
   "outputs": [
    {
     "name": "stdout",
     "output_type": "stream",
     "text": [
      "torch.float64\n"
     ]
    }
   ],
   "source": [
    "print(torch.get_default_dtype())"
   ]
  },
  {
   "cell_type": "code",
   "execution_count": 1,
   "id": "a22aaa7a",
   "metadata": {},
   "outputs": [
    {
     "name": "stdout",
     "output_type": "stream",
     "text": [
      "cpu\n",
      "cpu\n",
      "cpu\n"
     ]
    }
   ],
   "source": [
    "import torch\n",
    "\n",
    "x = torch.tensor([1.0,2.0])\n",
    "print(x.device)\n",
    "\n",
    "if torch.cuda.is_available():\n",
    "    torch.set_default_device('cuda')\n",
    "    print(torch.get_default_device())\n",
    "    \n",
    "y= torch.tensor([2,2])\n",
    "print(y.device)\n",
    "\n",
    "torch.set_default_device('cpu')\n",
    "z = torch.tensor([3.0, 3.0])\n",
    "print(z.device)"
   ]
  },
  {
   "cell_type": "markdown",
   "id": "cd65959c",
   "metadata": {},
   "source": [
    "Hàm này chỉ ảnh hưởng đến tensor tạo mới sau khi gọi.\n",
    "\n",
    "Không tự động chuyển tensor cũ sang device mới.\n",
    "\n",
    "Nếu có nhiều GPU, bạn có thể chọn GPU cụ thể"
   ]
  },
  {
   "cell_type": "markdown",
   "id": "5bd5178c",
   "metadata": {},
   "source": [
    "torch.set_default_tensor_type là hàm trong PyTorch dùng để đặt loại Tensor mặc định cho tất cả Tensor mới được tạo.\n",
    "Khác với torch.set_default_dtype (chỉ đổi dtype của float), hàm này cho phép bạn đổi hẳn kiểu Tensor (ví dụ: torch.FloatTensor, torch.DoubleTensor, torch.cuda.FloatTensor)"
   ]
  },
  {
   "cell_type": "code",
   "execution_count": 2,
   "id": "0ae4b356",
   "metadata": {},
   "outputs": [
    {
     "name": "stdout",
     "output_type": "stream",
     "text": [
      "tensor([1., 2.])\n",
      "torch.FloatTensor\n",
      "tensor([1., 2., 3.])\n",
      "torch.DoubleTensor\n"
     ]
    },
    {
     "name": "stderr",
     "output_type": "stream",
     "text": [
      "c:\\Users\\eciti\\miniconda3\\Lib\\site-packages\\torch\\__init__.py:1264: UserWarning: torch.set_default_tensor_type() is deprecated as of PyTorch 2.1, please use torch.set_default_dtype() and torch.set_default_device() as alternatives. (Triggered internally at C:\\actions-runner\\_work\\pytorch\\pytorch\\pytorch\\torch\\csrc\\tensor\\python_tensor.cpp:436.)\n",
      "  _C._set_default_tensor_type(t)\n"
     ]
    }
   ],
   "source": [
    "import torch\n",
    "\n",
    "x= torch.tensor([1.0, 2.0])\n",
    "print(x)\n",
    "print(x.type())\n",
    "\n",
    "torch.set_default_tensor_type(torch.DoubleTensor)\n",
    "y = torch.tensor([1.0 ,2.0 ,3.0])\n",
    "print(y)\n",
    "print(y.type())\n",
    "\n",
    "if torch.cuda.is_available():\n",
    "    torch.set_default_tensor_type(torch.cuda.FloatTensor)\n",
    "    z = torch.tensor([1.0 ,2.0,3.0])\n",
    "    print(z.device)\n",
    "    print(z.type())\n",
    "    \n",
    "torch.set_default_tensor_type(torch.FloatTensor)"
   ]
  },
  {
   "cell_type": "markdown",
   "id": "7d78203e",
   "metadata": {},
   "source": [
    "Hàm này ảnh hưởng toàn cục đến việc tạo Tensor mới trong chương trình.\n",
    "\n",
    "Thay đổi này chỉ có hiệu lực sau khi gọi (Tensor đã tạo trước đó không bị đổi).\n",
    "\n",
    "Thường dùng khi:\n",
    "\n",
    "Muốn mặc định tất cả Tensor tạo ra ở dạng float64.\n",
    "\n",
    "Muốn Tensor mặc định ở GPU mà không cần device='cuda' mỗi lần."
   ]
  }
 ],
 "metadata": {
  "kernelspec": {
   "display_name": "base",
   "language": "python",
   "name": "python3"
  },
  "language_info": {
   "codemirror_mode": {
    "name": "ipython",
    "version": 3
   },
   "file_extension": ".py",
   "mimetype": "text/x-python",
   "name": "python",
   "nbconvert_exporter": "python",
   "pygments_lexer": "ipython3",
   "version": "3.13.5"
  }
 },
 "nbformat": 4,
 "nbformat_minor": 5
}
