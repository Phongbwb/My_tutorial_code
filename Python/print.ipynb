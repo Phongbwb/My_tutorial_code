{
 "cells": [
  {
   "cell_type": "markdown",
   "id": "8451519d",
   "metadata": {},
   "source": [
    "print(*objects, sep=' ', end='\\n', file=sys.stdout, flush=False)\n",
    "Các tham số chi tiết:\n",
    "1. *objects (bắt buộc)\n",
    "\n",
    "Các đối tượng cần in ra, có thể là một hoặc nhiều\n",
    "\n",
    "Tất cả đối tượng sẽ được convert thành string trước khi in\n",
    "\n",
    "2. sep (tùy chọn)\n",
    "\n",
    "Ký tự phân cách giữa các objects\n",
    "\n",
    "Mặc định: ' ' (space)\n",
    "\n",
    "3. end (tùy chọn)\n",
    "\n",
    "Ký tự kết thúc sau khi in xong\n",
    "\n",
    "Mặc định: '\\n' (xuống dòng)\n",
    "\n",
    "4. file (tùy chọn)\n",
    "\n",
    "Stream để ghi output\n",
    "\n",
    "Mặc định: sys.stdout (console)\n",
    "\n",
    "5. flush (tùy chọn)\n",
    "\n",
    "Có force flush output buffer hay không\n",
    "\n",
    "Mặc định: False"
   ]
  },
  {
   "cell_type": "code",
   "execution_count": null,
   "id": "9b868e04",
   "metadata": {},
   "outputs": [
    {
     "name": "stdout",
     "output_type": "stream",
     "text": [
      "Hello, World!\n",
      "3.14\n",
      "1\n"
     ]
    }
   ],
   "source": [
    "#In giá trị đơn\n",
    "print(\"Hello, World!\")\n",
    "print(\"3.14\")\n",
    "print(\"1\")"
   ]
  },
  {
   "cell_type": "code",
   "execution_count": 7,
   "id": "1f86b7a8",
   "metadata": {},
   "outputs": [
    {
     "name": "stdout",
     "output_type": "stream",
     "text": [
      "Alice 25 New York\n",
      "Name: Alice age: 25 city: New York\n",
      "NameAliceage25cityNew York\n"
     ]
    }
   ],
   "source": [
    "#In nhiều giá trị\n",
    "name = \"Alice\"\n",
    "age = 25\n",
    "city = \"New York\"\n",
    "\n",
    "print(name, age, city)\n",
    "print(\"Name:\", name, \"age:\", age, \"city:\", city)\n",
    "print(\"Name\"+ name + \"age\" + str(age)+ \"city\"+city)\n"
   ]
  },
  {
   "cell_type": "code",
   "execution_count": 8,
   "id": "c89cc47e",
   "metadata": {},
   "outputs": [
    {
     "name": "stdout",
     "output_type": "stream",
     "text": [
      "Python is awesome\n",
      "Python-is-awesome\n",
      "Python\n",
      "is\n",
      "awesome\n",
      "Pythonisawesome\n",
      "Python | is | awesome\n",
      "Name,Age,City\n",
      "home/user/documents/file.txt\n",
      "0123-456-789\n"
     ]
    }
   ],
   "source": [
    "#Tham số sep - Separator\n",
    "\n",
    "#Mặc định sử dụng space\n",
    "print(\"Python\", \"is\", \"awesome\")\n",
    "\n",
    "#Sử dụng dấu gạch ngang\n",
    "print(\"Python\",\"is\",\"awesome\",sep=\"-\")\n",
    "\n",
    "#Sử dụng dấu xuống dòng\n",
    "print(\"Python\",\"is\",\"awesome\",sep=\"\\n\")\n",
    "\n",
    "#Không có separator\n",
    "print(\"Python\",\"is\",\"awesome\",sep=\"\")\n",
    "\n",
    "#Custom separator\n",
    "print(\"Python\",\"is\", \"awesome\", sep=\" | \")\n",
    "\n",
    "#Ứng dụng thực tế với sep\n",
    "\n",
    "#Tạo CVS format\n",
    "data = [\"Name\", \"Age\", \"City\"]\n",
    "print(*data, sep=\",\")\n",
    "\n",
    "#Tạo đường path\n",
    "print(\"home\",\"user\",\"documents\",\"file.txt\",sep=\"/\")\n",
    "\n",
    "#Format phone number\n",
    "print(\"0123\", \"456\", \"789\", sep=\"-\")\n"
   ]
  },
  {
   "cell_type": "code",
   "execution_count": null,
   "id": "4eb0fd08",
   "metadata": {},
   "outputs": [],
   "source": [
    "#Tham số end\n",
    "\n",
    "#Mặc định xuống dòng \n",
    "print(\"First line\")\n",
    "print(\"Second line\")\n",
    "\n",
    "#Không xuống dòng \n",
    "print(\"Hello\", end=\" \")\n",
    "print(\"World\")\n",
    "\n",
    "#Custom ending\n",
    "print(\"Loading\", end=\"...\")\n",
    "print(\"Done\")\n",
    "\n",
    "\n"
   ]
  },
  {
   "cell_type": "code",
   "execution_count": 10,
   "id": "9b463f3c",
   "metadata": {},
   "outputs": [
    {
     "name": "stdout",
     "output_type": "stream",
     "text": [
      "Progress: ██████████ Done!\n"
     ]
    }
   ],
   "source": [
    "#Progress bar với end\n",
    "\n",
    "import time\n",
    "\n",
    "print(\"Progress: \", end=\"\")\n",
    "for i in range(10):\n",
    "    print(\"█\", end=\"\", flush=True)\n",
    "    time.sleep(0.5)\n",
    "print(\" Done!\")"
   ]
  },
  {
   "cell_type": "code",
   "execution_count": 11,
   "id": "8f1375d0",
   "metadata": {},
   "outputs": [
    {
     "name": "stdout",
     "output_type": "stream",
     "text": [
      "This goes to console\n"
     ]
    },
    {
     "name": "stderr",
     "output_type": "stream",
     "text": [
      "Error message\n"
     ]
    }
   ],
   "source": [
    "#Tham số file - Output Stream\n",
    "\n",
    "import sys\n",
    "\n",
    "#In ra console (mặc định)\n",
    "print(\"This goes to console\")\n",
    "\n",
    "#In ra file\n",
    "with open(\"output.txt\", \"w\") as f:\n",
    "    print(\"This goes to file\", file=f)\n",
    "    \n",
    "#In ra stderr\n",
    "print(\"Error message\", file=sys.stderr)\n",
    "\n",
    "#In ra multiple files\n",
    "with open (\"log1.txt\", \"w\") as f1, open(\"log2.txt\", \"w\") as f2:\n",
    "    print(\"Message 1\", file=f1)\n",
    "    print(\"Message 2\", file=f2)\n",
    "    \n"
   ]
  },
  {
   "cell_type": "code",
   "execution_count": 12,
   "id": "5f7b7394",
   "metadata": {},
   "outputs": [
    {
     "name": "stdout",
     "output_type": "stream",
     "text": [
      "[2025-09-07 15:20:16]INFO:Application started\n",
      "[2025-09-07 15:20:16]ERROR:Error occurred\n"
     ]
    }
   ],
   "source": [
    "#Logging với file parameter\n",
    "\n",
    "import datetime\n",
    "\n",
    "def log_message(message, level=\"INFO\"):\n",
    "    timestamp = datetime.datetime.now().strftime(\"%Y-%m-%d %H:%M:%S\")\n",
    "    log_entry = f\"[{timestamp}]{level}:{message}\"\n",
    "    \n",
    "    #In ra console\n",
    "    print(log_entry)\n",
    "    \n",
    "    #In ra log file\n",
    "    with open(\"app.log\",\"a\") as f:\n",
    "        print(log_entry, file =f)    \n",
    "\n",
    "log_message(\"Application started\")\n",
    "log_message(\"Error occurred\", \"ERROR\")"
   ]
  },
  {
   "cell_type": "code",
   "execution_count": 13,
   "id": "5b77315a",
   "metadata": {},
   "outputs": [
    {
     "name": "stdout",
     "output_type": "stream",
     "text": [
      "Processing 0 Processing 1 Processing 2 Processing 3 Processing 4 Processing 0 Processing 1 Processing 2 Processing 3 Processing 4 "
     ]
    }
   ],
   "source": [
    "#Tham số flush - Buffer control\n",
    "\n",
    "import time\n",
    "\n",
    "#Không flush (mặc định) - Output có thể bị delay\n",
    "\n",
    "for i in range(5):\n",
    "    print(f\"Processing {i}\", end=\" \")\n",
    "    time.sleep(1)\n",
    "    \n",
    "# Với flush=True - output ngay lập tức\n",
    "for i in range(5):\n",
    "    print(f\"Processing {i}\", end=\" \", flush=True)\n",
    "    time.sleep(1)"
   ]
  }
 ],
 "metadata": {
  "kernelspec": {
   "display_name": "base",
   "language": "python",
   "name": "python3"
  },
  "language_info": {
   "codemirror_mode": {
    "name": "ipython",
    "version": 3
   },
   "file_extension": ".py",
   "mimetype": "text/x-python",
   "name": "python",
   "nbconvert_exporter": "python",
   "pygments_lexer": "ipython3",
   "version": "3.13.5"
  }
 },
 "nbformat": 4,
 "nbformat_minor": 5
}
